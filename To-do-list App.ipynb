{
 "cells": [
  {
   "cell_type": "code",
   "execution_count": 16,
   "metadata": {},
   "outputs": [],
   "source": [
    "import numpy as np\n",
    "import pandas as pd\n",
    "from tkinter import *"
   ]
  },
  {
   "cell_type": "code",
   "execution_count": 20,
   "metadata": {},
   "outputs": [],
   "source": [
    "root=Tk()\n",
    "topframe=Frame(root)\n",
    "topframe.pack()\n",
    "bottomframe=Frame(root)\n",
    "bottomframe.pack(side=BOTTOM)\n",
    "button1=Button(topframe,text=\"button1 press\",fg=\"red\")\n",
    "button2=Button(topframe,text=\"button2 press\",fg=\"blue\")\n",
    "button3=Button(topframe,text=\"button3 press\",fg=\"pink\")\n",
    "button4=Button(bottomframe,text=\"button4 press\",fg=\"yellow\")\n",
    "button1.pack(side=LEFT)\n",
    "button2.pack(side=LEFT)\n",
    "button3.pack(side=LEFT)\n",
    "button4.pack(side=BOTTOM)\n",
    "# label1=tk.Label(root,text=\"Notename\")\n",
    "# label1.pack()\n",
    "root.mainloop()"
   ]
  },
  {
   "cell_type": "code",
   "execution_count": 25,
   "metadata": {},
   "outputs": [],
   "source": [
    "root=Tk()\n",
    "label1=tk.Label(root,text=\"Notename1\",bg=\"red\",fg=\"white\")\n",
    "label2=tk.Label(root,text=\"Notename2\",bg=\"blue\",fg=\"white\")\n",
    "label3=tk.Label(root,text=\"Notename3\",bg=\"green\",fg=\"black\")\n",
    "label1.pack()\n",
    "label2.pack(fill=X)\n",
    "label3.pack(side=LEFT,fill=Y)\n",
    "\n",
    "root.mainloop()"
   ]
  },
  {
   "cell_type": "code",
   "execution_count": 30,
   "metadata": {},
   "outputs": [],
   "source": [
    "root=Tk()\n",
    "label1=Label(root,text=\"Name\",bg=\"red\",fg=\"white\")\n",
    "label2=Label(root,text=\"Password\",bg=\"blue\",fg=\"white\")\n",
    "Entry1=Entry(root)\n",
    "Entry2=Entry(root)\n",
    "label1.grid(row=0,column=0)\n",
    "label2.grid(row=2,column=0)\n",
    "Entry1.grid(row=0,column=1)\n",
    "Entry2.grid(row=2,column=1)\n",
    "root.mainloop()"
   ]
  },
  {
   "cell_type": "code",
   "execution_count": null,
   "metadata": {},
   "outputs": [],
   "source": [
    "asd"
   ]
  },
  {
   "cell_type": "code",
   "execution_count": null,
   "metadata": {},
   "outputs": [],
   "source": []
  },
  {
   "cell_type": "code",
   "execution_count": null,
   "metadata": {},
   "outputs": [],
   "source": []
  },
  {
   "cell_type": "code",
   "execution_count": null,
   "metadata": {},
   "outputs": [],
   "source": []
  },
  {
   "cell_type": "code",
   "execution_count": null,
   "metadata": {},
   "outputs": [],
   "source": []
  },
  {
   "cell_type": "code",
   "execution_count": null,
   "metadata": {},
   "outputs": [],
   "source": []
  },
  {
   "cell_type": "code",
   "execution_count": null,
   "metadata": {},
   "outputs": [],
   "source": []
  },
  {
   "cell_type": "code",
   "execution_count": null,
   "metadata": {},
   "outputs": [],
   "source": []
  },
  {
   "cell_type": "code",
   "execution_count": null,
   "metadata": {},
   "outputs": [],
   "source": []
  },
  {
   "cell_type": "code",
   "execution_count": null,
   "metadata": {},
   "outputs": [],
   "source": []
  },
  {
   "cell_type": "code",
   "execution_count": 27,
   "metadata": {},
   "outputs": [],
   "source": [
    "All_Notes=[]\n",
    "Notes_data={}\n",
    "database=0\n",
    "notebook_info=0"
   ]
  },
  {
   "cell_type": "code",
   "execution_count": 59,
   "metadata": {},
   "outputs": [],
   "source": [
    "def load_database():\n",
    "    global database\n",
    "    global notebook_info\n",
    "    database=pd.read_csv(\"to-do-list_database.csv\")\n",
    "    notebook_info=pd.read_csv(\"to-do-list_notebook_info.csv\")\n",
    "#     return database"
   ]
  },
  {
   "cell_type": "code",
   "execution_count": 91,
   "metadata": {},
   "outputs": [],
   "source": [
    "load_database()\n"
   ]
  },
  {
   "cell_type": "code",
   "execution_count": 92,
   "metadata": {},
   "outputs": [
    {
     "data": {
      "text/html": [
       "<div>\n",
       "<style scoped>\n",
       "    .dataframe tbody tr th:only-of-type {\n",
       "        vertical-align: middle;\n",
       "    }\n",
       "\n",
       "    .dataframe tbody tr th {\n",
       "        vertical-align: top;\n",
       "    }\n",
       "\n",
       "    .dataframe thead th {\n",
       "        text-align: right;\n",
       "    }\n",
       "</style>\n",
       "<table border=\"1\" class=\"dataframe\">\n",
       "  <thead>\n",
       "    <tr style=\"text-align: right;\">\n",
       "      <th></th>\n",
       "      <th>Notebook_name</th>\n",
       "      <th>Notename</th>\n",
       "    </tr>\n",
       "  </thead>\n",
       "  <tbody>\n",
       "    <tr>\n",
       "      <th>0</th>\n",
       "      <td>default</td>\n",
       "      <td>note1</td>\n",
       "    </tr>\n",
       "    <tr>\n",
       "      <th>0</th>\n",
       "      <td>default</td>\n",
       "      <td>note2</td>\n",
       "    </tr>\n",
       "  </tbody>\n",
       "</table>\n",
       "</div>"
      ],
      "text/plain": [
       "  Notebook_name Notename\n",
       "0       default    note1\n",
       "0       default    note2"
      ]
     },
     "execution_count": 92,
     "metadata": {},
     "output_type": "execute_result"
    }
   ],
   "source": []
  },
  {
   "cell_type": "code",
   "execution_count": 94,
   "metadata": {},
   "outputs": [],
   "source": []
  },
  {
   "cell_type": "code",
   "execution_count": 4,
   "metadata": {},
   "outputs": [],
   "source": [
    "class checkbox:\n",
    "    def __init__(self, name, selected_flag):\n",
    "        self.name = name\n",
    "        self.selected = selected_flag\n",
    "# p1 = Person(\"John\", True)\n",
    "class table:\n",
    "    def __init__(self, name, selected_flag):\n",
    "        self.name = name\n",
    "        self.num_rows\n",
    "        self.num_cols\n",
    "        self.table=[[0]*self.num_cols for i in range(self.num_rows)]\n",
    "        self.selected = selected_flag\n"
   ]
  },
  {
   "cell_type": "code",
   "execution_count": 103,
   "metadata": {},
   "outputs": [],
   "source": [
    "def addNote( name,notebookname=\"default\"):\n",
    "    if(name in notebook_info[\"Notename\"]):\n",
    "        print(\"Note with this name already exists\")\n",
    "    else:\n",
    "        note_data=[[notebookname,\"note2\"]]\n",
    "        cols=list(notebook_info.columns)\n",
    "        note_data_df = pd.DataFrame(note_data, columns=cols)\n",
    "#         global notebook_info\n",
    "        notebook_info=notebook_info.append(note_data_df)\n",
    "        savedata(\"to-do-list_notebook_info.csv\",notebook_info)"
   ]
  },
  {
   "cell_type": "code",
   "execution_count": 6,
   "metadata": {},
   "outputs": [],
   "source": [
    "def deleteNote(name):\n",
    "    if(name not in All_Notes):\n",
    "        print(\"Note with this name does not exist\")\n",
    "    else:\n",
    "        All_Notes.remove(name)\n",
    "        del Notes_data[name]"
   ]
  },
  {
   "cell_type": "code",
   "execution_count": 7,
   "metadata": {},
   "outputs": [],
   "source": [
    "def displayNote(name):\n",
    "    print(Notes_data)"
   ]
  },
  {
   "cell_type": "code",
   "execution_count": 8,
   "metadata": {},
   "outputs": [],
   "source": [
    "def addTableData():\n",
    "    pass"
   ]
  },
  {
   "cell_type": "code",
   "execution_count": 9,
   "metadata": {},
   "outputs": [],
   "source": [
    "def addCheckboxData():\n",
    "    pass"
   ]
  },
  {
   "cell_type": "code",
   "execution_count": 10,
   "metadata": {},
   "outputs": [],
   "source": [
    "def addTextData():\n",
    "    pass"
   ]
  },
  {
   "cell_type": "code",
   "execution_count": 11,
   "metadata": {},
   "outputs": [],
   "source": [
    "def update():\n",
    "    pass"
   ]
  },
  {
   "cell_type": "code",
   "execution_count": 95,
   "metadata": {},
   "outputs": [],
   "source": [
    "def savedata(filename,dataframe_name):\n",
    "    dataframe_name.to_csv(filename,index=False)"
   ]
  },
  {
   "cell_type": "code",
   "execution_count": 13,
   "metadata": {},
   "outputs": [],
   "source": [
    "def loaddata():\n",
    "    pass"
   ]
  },
  {
   "cell_type": "code",
   "execution_count": 14,
   "metadata": {},
   "outputs": [],
   "source": [
    "def addData(notename, datatype, data):\n",
    "    if(datatype==\"text\"):\n",
    "        addTextData(notename,data)\n",
    "    elif(datatype==\"table\"):\n",
    "        addTableData()\n",
    "    elif(datatype==\"checkbox\"):\n",
    "        addCheckboxData()\n",
    "    else: #datatype text\n",
    "        pass\n",
    "        "
   ]
  },
  {
   "cell_type": "code",
   "execution_count": null,
   "metadata": {},
   "outputs": [],
   "source": []
  },
  {
   "cell_type": "code",
   "execution_count": 15,
   "metadata": {},
   "outputs": [],
   "source": [
    "def add():\n",
    "    pass"
   ]
  },
  {
   "cell_type": "code",
   "execution_count": 19,
   "metadata": {},
   "outputs": [],
   "source": [
    "def main():\n",
    "    load_database()\n",
    "    while (True):\n",
    "        print(\"Select an option\")\n",
    "        print(\"1 Add Note\")\n",
    "        print(\"2 Delete Note\")\n",
    "        print(\"3 Modify Note\")\n",
    "        print(\"4 Add data\")\n",
    "        print(\"10 Exit\")\n",
    "        opt = input(\"Choose an option\") \n",
    "        if(opt==1):\n",
    "            addNote()\n",
    "        elif(opt==2):\n",
    "            deleteNote()\n",
    "        elif(opt==3):\n",
    "            pass\n",
    "        elif(opt==4):\n",
    "            notename = input(\"Please enter NoteName\")\n",
    "            datatype= input(\"Please enter Datatype\")\n",
    "            data=input(\"Please enter data\")\n",
    "            addData(notename,datatype,data)"
   ]
  },
  {
   "cell_type": "code",
   "execution_count": 99,
   "metadata": {},
   "outputs": [
    {
     "ename": "UnboundLocalError",
     "evalue": "local variable 'notebook_info' referenced before assignment",
     "output_type": "error",
     "traceback": [
      "\u001b[1;31m---------------------------------------------------------------------------\u001b[0m",
      "\u001b[1;31mUnboundLocalError\u001b[0m                         Traceback (most recent call last)",
      "\u001b[1;32m<ipython-input-99-dc858386492f>\u001b[0m in \u001b[0;36m<module>\u001b[1;34m\u001b[0m\n\u001b[1;32m----> 1\u001b[1;33m \u001b[0maddNote\u001b[0m\u001b[1;33m(\u001b[0m\u001b[1;34m\"test\"\u001b[0m\u001b[1;33m)\u001b[0m\u001b[1;33m\u001b[0m\u001b[1;33m\u001b[0m\u001b[0m\n\u001b[0m",
      "\u001b[1;32m<ipython-input-98-c94f226280e5>\u001b[0m in \u001b[0;36maddNote\u001b[1;34m(name, notebookname)\u001b[0m\n\u001b[0;32m      1\u001b[0m \u001b[1;32mdef\u001b[0m \u001b[0maddNote\u001b[0m\u001b[1;33m(\u001b[0m \u001b[0mname\u001b[0m\u001b[1;33m,\u001b[0m\u001b[0mnotebookname\u001b[0m\u001b[1;33m=\u001b[0m\u001b[1;34m\"default\"\u001b[0m\u001b[1;33m)\u001b[0m\u001b[1;33m:\u001b[0m\u001b[1;33m\u001b[0m\u001b[1;33m\u001b[0m\u001b[0m\n\u001b[1;32m----> 2\u001b[1;33m     \u001b[1;32mif\u001b[0m\u001b[1;33m(\u001b[0m\u001b[0mname\u001b[0m \u001b[1;32min\u001b[0m \u001b[0mnotebook_info\u001b[0m\u001b[1;33m[\u001b[0m\u001b[1;34m\"Notename\"\u001b[0m\u001b[1;33m]\u001b[0m\u001b[1;33m)\u001b[0m\u001b[1;33m:\u001b[0m\u001b[1;33m\u001b[0m\u001b[1;33m\u001b[0m\u001b[0m\n\u001b[0m\u001b[0;32m      3\u001b[0m         \u001b[0mprint\u001b[0m\u001b[1;33m(\u001b[0m\u001b[1;34m\"Note with this name already exists\"\u001b[0m\u001b[1;33m)\u001b[0m\u001b[1;33m\u001b[0m\u001b[1;33m\u001b[0m\u001b[0m\n\u001b[0;32m      4\u001b[0m     \u001b[1;32melse\u001b[0m\u001b[1;33m:\u001b[0m\u001b[1;33m\u001b[0m\u001b[1;33m\u001b[0m\u001b[0m\n\u001b[0;32m      5\u001b[0m         \u001b[0mnote_data\u001b[0m\u001b[1;33m=\u001b[0m\u001b[1;33m[\u001b[0m\u001b[1;33m[\u001b[0m\u001b[0mnotebookname\u001b[0m\u001b[1;33m,\u001b[0m\u001b[1;34m\"note2\"\u001b[0m\u001b[1;33m]\u001b[0m\u001b[1;33m]\u001b[0m\u001b[1;33m\u001b[0m\u001b[1;33m\u001b[0m\u001b[0m\n",
      "\u001b[1;31mUnboundLocalError\u001b[0m: local variable 'notebook_info' referenced before assignment"
     ]
    }
   ],
   "source": [
    "addNote(\"test\")"
   ]
  },
  {
   "cell_type": "code",
   "execution_count": 21,
   "metadata": {},
   "outputs": [
    {
     "name": "stdout",
     "output_type": "stream",
     "text": [
      "{'test': []}\n"
     ]
    }
   ],
   "source": [
    "displayNote(\"test\")"
   ]
  },
  {
   "cell_type": "code",
   "execution_count": 39,
   "metadata": {},
   "outputs": [
    {
     "data": {
      "text/plain": [
       "[[1, 0, 0, 0, 0, 0],\n",
       " [0, 0, 0, 0, 0, 0],\n",
       " [0, 0, 0, 0, 0, 0],\n",
       " [0, 0, 0, 0, 0, 0],\n",
       " [0, 0, 0, 0, 0, 0]]"
      ]
     },
     "execution_count": 39,
     "metadata": {},
     "output_type": "execute_result"
    }
   ],
   "source": []
  },
  {
   "cell_type": "code",
   "execution_count": null,
   "metadata": {},
   "outputs": [],
   "source": []
  },
  {
   "cell_type": "code",
   "execution_count": 24,
   "metadata": {},
   "outputs": [],
   "source": []
  },
  {
   "cell_type": "code",
   "execution_count": 25,
   "metadata": {},
   "outputs": [
    {
     "data": {
      "text/html": [
       "<div>\n",
       "<style scoped>\n",
       "    .dataframe tbody tr th:only-of-type {\n",
       "        vertical-align: middle;\n",
       "    }\n",
       "\n",
       "    .dataframe tbody tr th {\n",
       "        vertical-align: top;\n",
       "    }\n",
       "\n",
       "    .dataframe thead th {\n",
       "        text-align: right;\n",
       "    }\n",
       "</style>\n",
       "<table border=\"1\" class=\"dataframe\">\n",
       "  <thead>\n",
       "    <tr style=\"text-align: right;\">\n",
       "      <th></th>\n",
       "      <th>Notename</th>\n",
       "      <th>Datatype</th>\n",
       "      <th>Data</th>\n",
       "      <th>Timestamp</th>\n",
       "    </tr>\n",
       "  </thead>\n",
       "  <tbody>\n",
       "  </tbody>\n",
       "</table>\n",
       "</div>"
      ],
      "text/plain": [
       "Empty DataFrame\n",
       "Columns: [Notename, Datatype, Data, Timestamp]\n",
       "Index: []"
      ]
     },
     "execution_count": 25,
     "metadata": {},
     "output_type": "execute_result"
    }
   ],
   "source": [
    "database"
   ]
  },
  {
   "cell_type": "code",
   "execution_count": null,
   "metadata": {},
   "outputs": [],
   "source": []
  }
 ],
 "metadata": {
  "kernelspec": {
   "display_name": "Python 3",
   "language": "python",
   "name": "python3"
  },
  "language_info": {
   "codemirror_mode": {
    "name": "ipython",
    "version": 3
   },
   "file_extension": ".py",
   "mimetype": "text/x-python",
   "name": "python",
   "nbconvert_exporter": "python",
   "pygments_lexer": "ipython3",
   "version": "3.7.6"
  }
 },
 "nbformat": 4,
 "nbformat_minor": 4
}
